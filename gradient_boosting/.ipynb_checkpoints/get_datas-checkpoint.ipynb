{
 "cells": [
  {
   "cell_type": "code",
   "execution_count": 1,
   "id": "a1816d55",
   "metadata": {},
   "outputs": [],
   "source": [
    "from binance import Client\n",
    "import pandas as pd\n",
    "import matplotlib.pyplot as plt"
   ]
  },
  {
   "cell_type": "code",
   "execution_count": 2,
   "id": "3965a23c",
   "metadata": {},
   "outputs": [],
   "source": [
    "def get_data() -> pd.core.frame.DataFrame :\n",
    "\n",
    "    binance_public_key = \"...\"\n",
    "    binance_secret_key = \"...\"\n",
    "\n",
    "    client = Client(api_key=binance_public_key,\n",
    "                    api_secret=binance_secret_key)\n",
    "\n",
    "    klines_eth = client.get_historical_klines(\"ETHUSDT\", Client.KLINE_INTERVAL_15MINUTE, \"01 Jan, 2020\", \"26 May, 2021\")\n",
    "\n",
    "    ethusdt = pd.DataFrame(klines_eth, columns=[\"timestamp\", \"Open\", \"High\", \"Low\", \"Close\", \"Volume\", \"Close time\", \"Quote asset volume\",\n",
    "                                  \"Number of trades\", \"Taker buy base\", \"Taker buy quote\", \"To supp\"])\n",
    "\n",
    "    ethusdt[\"datetime\"] = pd.to_datetime(ethusdt.timestamp, unit=\"ms\")\n",
    "    ethusdt.index = ethusdt.datetime\n",
    "\n",
    "    ethusdt = ethusdt[\"Close\"]\n",
    "    \n",
    "    return ethusdt"
   ]
  },
  {
   "cell_type": "code",
   "execution_count": 3,
   "id": "7137dd64",
   "metadata": {},
   "outputs": [
    {
     "data": {
      "text/plain": [
       "datetime\n",
       "2020-01-01 00:00:00    128.91000000\n",
       "2020-01-01 00:15:00    128.78000000\n",
       "2020-01-01 00:30:00    128.86000000\n",
       "2020-01-01 00:45:00    128.87000000\n",
       "2020-01-01 01:00:00    129.13000000\n",
       "2020-01-01 01:15:00    130.26000000\n",
       "2020-01-01 01:30:00    130.33000000\n",
       "2020-01-01 01:45:00    130.64000000\n",
       "2020-01-01 02:00:00    130.48000000\n",
       "2020-01-01 02:15:00    130.76000000\n",
       "Name: Close, dtype: object"
      ]
     },
     "execution_count": 3,
     "metadata": {},
     "output_type": "execute_result"
    }
   ],
   "source": [
    "df = get_data()\n",
    "df.head(10)"
   ]
  },
  {
   "cell_type": "code",
   "execution_count": 5,
   "id": "50941387",
   "metadata": {},
   "outputs": [],
   "source": [
    "df.to_csv(\"data/ethusdt.csv\")"
   ]
  }
 ],
 "metadata": {
  "kernelspec": {
   "display_name": "Python 3",
   "language": "python",
   "name": "python3"
  },
  "language_info": {
   "codemirror_mode": {
    "name": "ipython",
    "version": 3
   },
   "file_extension": ".py",
   "mimetype": "text/x-python",
   "name": "python",
   "nbconvert_exporter": "python",
   "pygments_lexer": "ipython3",
   "version": "3.8.10"
  }
 },
 "nbformat": 4,
 "nbformat_minor": 5
}
