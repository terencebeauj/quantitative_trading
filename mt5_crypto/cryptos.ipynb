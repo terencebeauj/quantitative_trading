{
 "cells": [
  {
   "cell_type": "code",
   "execution_count": 6,
   "id": "0fca8025",
   "metadata": {},
   "outputs": [],
   "source": [
    "import MetaTrader5 as mt5\n",
    "import pandas as pd"
   ]
  },
  {
   "cell_type": "code",
   "execution_count": 7,
   "id": "c881409d",
   "metadata": {},
   "outputs": [],
   "source": [
    "if not mt5.initialize():\n",
    "    print(f\"Initialization failed, error: {mt5.last_error()}\")\n",
    "    quit()"
   ]
  },
  {
   "cell_type": "code",
   "execution_count": 17,
   "id": "0080c7f8",
   "metadata": {},
   "outputs": [
    {
     "name": "stdout",
     "output_type": "stream",
     "text": [
      "BTCUSD\n",
      "BTCJPY\n",
      "BTCEUR\n",
      "BSVUSD\n",
      "BCHEUR\n",
      "BCHUSD\n",
      "BCHBTC\n",
      "BCHXRP\n",
      "BCHJPY\n",
      "BCHETH\n",
      "BCHLTC\n",
      "BCHDSH\n",
      "XRPBTC\n",
      "XRPUSD\n",
      "XRPJPY\n",
      "XRPEUR\n",
      "XRPETH\n",
      "ETHUSD\n",
      "ETHJPY\n",
      "ETHEUR\n",
      "ETHBTC\n",
      "ETHLTC\n",
      "LTCUSD\n",
      "LTCJPY\n",
      "LTCEUR\n",
      "LTCBTC\n",
      "LTCXRP\n",
      "DSHUSD\n",
      "DSHJPY\n",
      "DSHEUR\n",
      "DSHBTC\n",
      "DSHXRP\n",
      "DSHETH\n",
      "DSHLTC\n",
      "XMRUSD\n",
      "XMRJPY\n",
      "XMREUR\n",
      "BNBUSD\n",
      "BNBJPY\n",
      "BNBBTC\n",
      "BNBXRP\n",
      "TRXUSD\n",
      "EOSUSD\n",
      "EOSJPY\n",
      "EOSBTC\n",
      "ADAUSD\n",
      "ADAJPY\n",
      "ADAEUR\n",
      "ADABTC\n",
      "ADAXRP\n",
      "XLMUSD\n",
      "XLMBTC\n",
      "XLMJPY\n",
      "XLMEUR\n",
      "IOTUSD\n",
      "XTZUSD\n",
      "USTUSD\n",
      "USTJPY\n",
      "USTXRP\n",
      "USTBTC\n",
      "USTEUR\n",
      "USTETH\n",
      "DOTBTC\n",
      "DOTUSD\n",
      "DOTJPY\n",
      "DOTEUR\n",
      "THTUSD\n",
      "CHZUSD\n",
      "ENJUSD\n",
      "DGBUSD\n",
      "SOLUSD\n",
      "MANUSD\n",
      "LUNUSD\n",
      "DOGUSD\n",
      "SHBUSD\n"
     ]
    }
   ],
   "source": [
    "symbs = mt5.symbols_get()\n",
    "symbols = []\n",
    "for symbol in symbs:\n",
    "    if symbol.category in [\"Crypto\"]:\n",
    "        symbols.append(symbol)\n",
    "        print(symbol.name)"
   ]
  },
  {
   "cell_type": "code",
   "execution_count": null,
   "id": "1c8de0f2",
   "metadata": {},
   "outputs": [],
   "source": []
  }
 ],
 "metadata": {
  "kernelspec": {
   "display_name": "venv",
   "language": "python",
   "name": "venv"
  },
  "language_info": {
   "codemirror_mode": {
    "name": "ipython",
    "version": 3
   },
   "file_extension": ".py",
   "mimetype": "text/x-python",
   "name": "python",
   "nbconvert_exporter": "python",
   "pygments_lexer": "ipython3",
   "version": "3.9.6"
  }
 },
 "nbformat": 4,
 "nbformat_minor": 5
}
