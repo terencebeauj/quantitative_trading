{
 "cells": [
  {
   "cell_type": "code",
   "execution_count": 6,
   "id": "54b2c151",
   "metadata": {},
   "outputs": [],
   "source": [
    "import MetaTrader5 as mt5\n",
    "import pandas as pd"
   ]
  },
  {
   "cell_type": "code",
   "execution_count": 7,
   "id": "a2ec9393",
   "metadata": {},
   "outputs": [],
   "source": [
    "if not mt5.initialize():\n",
    "    print(f\"Initialization failed, error: {mt5.last_error()}\")\n",
    "    quit()"
   ]
  },
  {
   "cell_type": "code",
   "execution_count": 9,
   "id": "bf99bc75",
   "metadata": {},
   "outputs": [
    {
     "name": "stdout",
     "output_type": "stream",
     "text": [
      "       0   1      2      3   4   5   6   7   8   9   ...   86   87  88  \\\n",
      "0   False   0   True   True   0   0   0   0   0   0  ...  USD  EUR       \n",
      "1   False   0   True   True   0   0   0   0   0   0  ...  USD  GBP       \n",
      "2   False   0   True   True   0   0   0   0   0   0  ...  USD  AUD       \n",
      "3   False   0   True   True   0   0   0   0   0   0  ...  JPY  USD       \n",
      "4   False   0   True   True   0   0   0   0   0   0  ...  JPY  EUR       \n",
      "..    ...  ..    ...    ...  ..  ..  ..  ..  ..  ..  ...  ...  ...  ..   \n",
      "93  False   0   True   True   0   0   0   0   0   0  ...  USD  SOL       \n",
      "94  False   0   True   True   0   0   0   0   0   0  ...  USD  MAN       \n",
      "95  False   0  False  False   0   0   0   0   0   0  ...  USD  LUN       \n",
      "96  False   0   True   True   0   0   0   0   0   0  ...  USD  DOG       \n",
      "97  False   0   True   True   0   0   0   0   0   0  ...  USD  SHB       \n",
      "\n",
      "                                  89  90  91  92      93  \\\n",
      "0                  Euro vs US Dollar              EURUSD   \n",
      "1   Great Britain Pound vs US Dollar              GBPUSD   \n",
      "2     Australian Dollar vs US Dollar              AUDUSD   \n",
      "3          US Dollar vs Japanese Yen              USDJPY   \n",
      "4               Euro vs Japanese Yen              EURJPY   \n",
      "..                               ...  ..  ..  ..     ...   \n",
      "93               Solana vs US Dollar              SOLUSD   \n",
      "94                 Mana vs US Dollar              MANUSD   \n",
      "95                 Luna vs US Dollar              LUNUSD   \n",
      "96             Dogecoin vs US Dollar              DOGUSD   \n",
      "97            Shiba Inu vs US Dollar              SHBUSD   \n",
      "\n",
      "                                        94                             95  \n",
      "0   http://www.google.com/finance?q=EURUSD       STD ECN\\Fx Majors\\EURUSD  \n",
      "1                                                STD ECN\\Fx Majors\\GBPUSD  \n",
      "2                                                STD ECN\\Fx Majors\\AUDUSD  \n",
      "3                                                STD ECN\\Fx Majors\\USDJPY  \n",
      "4                                                STD ECN\\Fx Minors\\EURJPY  \n",
      "..                                     ...                            ...  \n",
      "93                                          Cryptocurrencies\\Coins\\SOLUSD  \n",
      "94                                           Cryptocurrencies\\NFTs\\MANUSD  \n",
      "95                                          Cryptocurrencies\\Coins\\LUNUSD  \n",
      "96                                                Cryptocurrencies\\DOGUSD  \n",
      "97                                                Cryptocurrencies\\SHBUSD  \n",
      "\n",
      "[98 rows x 96 columns]\n"
     ]
    }
   ],
   "source": [
    "symbols = mt5.symbols_get()\n",
    "symbols"
   ]
  },
  {
   "cell_type": "code",
   "execution_count": null,
   "id": "8f7b814e",
   "metadata": {},
   "outputs": [],
   "source": []
  }
 ],
 "metadata": {
  "kernelspec": {
   "display_name": "venv",
   "language": "python",
   "name": "venv"
  },
  "language_info": {
   "codemirror_mode": {
    "name": "ipython",
    "version": 3
   },
   "file_extension": ".py",
   "mimetype": "text/x-python",
   "name": "python",
   "nbconvert_exporter": "python",
   "pygments_lexer": "ipython3",
   "version": "3.9.6"
  }
 },
 "nbformat": 4,
 "nbformat_minor": 5
}
